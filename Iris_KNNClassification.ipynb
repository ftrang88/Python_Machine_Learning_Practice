{
 "cells": [
  {
   "cell_type": "code",
   "execution_count": 22,
   "metadata": {},
   "outputs": [],
   "source": [
    "## Frank Tranghese\n",
    "## 10 AUG 2018\n",
    "## Iris Classification Dataset\n",
    "\n",
    "# Based on example found at https://machinelearningmastery.com/machine-learning-in-python-step-by-step/\n",
    "# The majority of my experience with machine learning is in MATLAB. Intent of this code is to learning more \n",
    "# about using python for machine learning. The intent isn't necessarily to go for the best methodology but\n",
    "# to practice use of python for machine learning\n",
    "\n",
    "import pandas\n",
    "import matplotlib.pyplot as plt\n",
    "from sklearn import model_selection\n",
    "from sklearn.metrics import classification_report\n",
    "from sklearn.metrics import confusion_matrix\n",
    "from sklearn.metrics import accuracy_score\n",
    "from sklearn.neighbors import KNeighborsClassifier"
   ]
  },
  {
   "cell_type": "code",
   "execution_count": 3,
   "metadata": {},
   "outputs": [],
   "source": [
    "## Load iris data\n",
    "\n",
    "url = \"https://archive.ics.uci.edu/ml/machine-learning-databases/iris/iris.data\"\n",
    "names = ['sepal-length', 'sepal-width', 'petal-length', 'petal-width', 'class']\n",
    "dataset = pandas.read_csv(url, names=names)"
   ]
  },
  {
   "cell_type": "code",
   "execution_count": 5,
   "metadata": {},
   "outputs": [
    {
     "name": "stdout",
     "output_type": "stream",
     "text": [
      "class\n",
      "Iris-setosa        50\n",
      "Iris-versicolor    50\n",
      "Iris-virginica     50\n",
      "dtype: int64\n",
      "       sepal-length  sepal-width  petal-length  petal-width\n",
      "count    150.000000   150.000000    150.000000   150.000000\n",
      "mean       5.843333     3.054000      3.758667     1.198667\n",
      "std        0.828066     0.433594      1.764420     0.763161\n",
      "min        4.300000     2.000000      1.000000     0.100000\n",
      "25%        5.100000     2.800000      1.600000     0.300000\n",
      "50%        5.800000     3.000000      4.350000     1.300000\n",
      "75%        6.400000     3.300000      5.100000     1.800000\n",
      "max        7.900000     4.400000      6.900000     2.500000\n"
     ]
    }
   ],
   "source": [
    "## Inspect Data\n",
    "\n",
    "# Check how many classes there are and how many examples of each\n",
    "print(dataset.groupby('class').size())\n",
    "\n",
    "# Description of data\n",
    "print(dataset.describe())"
   ]
  },
  {
   "cell_type": "code",
   "execution_count": 6,
   "metadata": {},
   "outputs": [],
   "source": [
    "## Create Train and Test sets\n",
    "\n",
    "entireSet = dataset.values\n",
    "features = entireSet[:,0:4] # get features from data\n",
    "labels = entireSet[:,4] # get class labels from data\n",
    "validSize = 0.1 # we want to test on 10% of the set, training using 90%\n",
    "\n",
    "X_train,X_test,Y_train,Y_test = model_selection.train_test_split(features, labels, test_size=validSize, random_state=7)"
   ]
  },
  {
   "cell_type": "code",
   "execution_count": 10,
   "metadata": {},
   "outputs": [
    {
     "name": "stdout",
     "output_type": "stream",
     "text": [
      "euclidKNN: 0.977473 (0.034441)\n",
      "chebyKNN: 0.976923 (0.049255)\n",
      "manhatKNN: 0.962637 (0.037411)\n"
     ]
    }
   ],
   "source": [
    "## Test KNN models over different distance functions\n",
    "\n",
    "models = []\n",
    "models.append(('euclidKNN', KNeighborsClassifier(metric = 'euclidean')))\n",
    "models.append(('chebyKNN', KNeighborsClassifier(metric = 'chebyshev')))\n",
    "models.append(('manhatKNN', KNeighborsClassifier(metric = 'manhattan')))\n",
    "\n",
    "results = []\n",
    "names = []\n",
    "for name, model in models:\n",
    "\tkfold = model_selection.KFold(n_splits=10, random_state=7)\n",
    "\tcv_results = model_selection.cross_val_score(model, X_train, Y_train, cv=kfold, scoring='accuracy')\n",
    "\tresults.append(cv_results)\n",
    "\tnames.append(name)\n",
    "\tmsg = \"%s: %f (%f)\" % (name, cv_results.mean(), cv_results.std())\n",
    "\tprint(msg)"
   ]
  },
  {
   "cell_type": "code",
   "execution_count": 19,
   "metadata": {},
   "outputs": [
    {
     "name": "stdout",
     "output_type": "stream",
     "text": [
      "KNN3: 0.962637 (0.049193)\n",
      "KNN5: 0.977473 (0.034441)\n",
      "KNN7: 0.970330 (0.048414)\n",
      "KNN9: 0.977473 (0.034441)\n",
      "KNN11: 0.970330 (0.036380)\n",
      "KNN13: 0.978022 (0.033602)\n",
      "KNN15: 0.978022 (0.033602)\n",
      "KNN17: 0.985165 (0.029696)\n",
      "KNN19: 0.985165 (0.029696)\n"
     ]
    }
   ],
   "source": [
    "## Test KNN using different nearest neighbor sizes\n",
    "# We can see that the Euclidean distance resulted in the highest accuracy. Now lets test this over different neighbors\n",
    "\n",
    "models = []\n",
    "models.append(('KNN3', KNeighborsClassifier(metric = 'euclidean', n_neighbors= 3)))\n",
    "models.append(('KNN5', KNeighborsClassifier(metric = 'euclidean', n_neighbors= 5)))\n",
    "models.append(('KNN7', KNeighborsClassifier(metric = 'euclidean', n_neighbors = 7)))\n",
    "models.append(('KNN9', KNeighborsClassifier(metric = 'euclidean', n_neighbors = 9)))\n",
    "models.append(('KNN11', KNeighborsClassifier(metric = 'euclidean', n_neighbors = 11)))\n",
    "models.append(('KNN13', KNeighborsClassifier(metric = 'euclidean', n_neighbors = 13)))\n",
    "models.append(('KNN15', KNeighborsClassifier(metric = 'euclidean', n_neighbors = 15)))\n",
    "models.append(('KNN17', KNeighborsClassifier(metric = 'euclidean', n_neighbors = 17)))\n",
    "models.append(('KNN19', KNeighborsClassifier(metric = 'euclidean', n_neighbors = 19)))\n",
    "\n",
    "results = []\n",
    "names = []\n",
    "for name, model in models:\n",
    "\tkfold = model_selection.KFold(n_splits=10, random_state=7)\n",
    "\tcv_results = model_selection.cross_val_score(model, X_train, Y_train, cv=kfold, scoring='accuracy')\n",
    "\tresults.append(cv_results)\n",
    "\tnames.append(name)\n",
    "\tmsg = \"%s: %f (%f)\" % (name, cv_results.mean(), cv_results.std())\n",
    "\tprint(msg)"
   ]
  },
  {
   "cell_type": "code",
   "execution_count": 20,
   "metadata": {},
   "outputs": [
    {
     "name": "stdout",
     "output_type": "stream",
     "text": [
      "0.8666666666666667\n",
      "[[5 0 0]\n",
      " [0 6 1]\n",
      " [0 1 2]]\n",
      "                 precision    recall  f1-score   support\n",
      "\n",
      "    Iris-setosa       1.00      1.00      1.00         5\n",
      "Iris-versicolor       0.86      0.86      0.86         7\n",
      " Iris-virginica       0.67      0.67      0.67         3\n",
      "\n",
      "    avg / total       0.87      0.87      0.87        15\n",
      "\n"
     ]
    }
   ],
   "source": [
    "# from above, we can see that using 17 neighbors yeilds the most accurate results, so we will use the \n",
    "# eucliean distance metric with 17 neighbors to try on our test set.\n",
    "\n",
    "# Make predictions on test set\n",
    "KNNClassifier = KNeighborsClassifier(metric = 'euclidean', n_neighbors = 17)\n",
    "KNNClassifier.fit(X_train, Y_train)\n",
    "predictions = KNNClassifier.predict(X_test)\n",
    "print(accuracy_score(Y_test, predictions))\n",
    "print(confusion_matrix(Y_test, predictions))\n",
    "print(classification_report(Y_test, predictions))"
   ]
  },
  {
   "cell_type": "code",
   "execution_count": 30,
   "metadata": {},
   "outputs": [],
   "source": [
    "# we can see above some confusion between class 2 and class 3. But overall we achieved 86.667% accuracy.\n",
    "# further looking into what best separates class 2 and 3 would be a good next step. Adding an additional feature\n",
    "# would improve our results"
   ]
  }
 ],
 "metadata": {
  "kernelspec": {
   "display_name": "Python 3",
   "language": "python",
   "name": "python3"
  },
  "language_info": {
   "codemirror_mode": {
    "name": "ipython",
    "version": 3
   },
   "file_extension": ".py",
   "mimetype": "text/x-python",
   "name": "python",
   "nbconvert_exporter": "python",
   "pygments_lexer": "ipython3",
   "version": "3.6.5"
  }
 },
 "nbformat": 4,
 "nbformat_minor": 2
}
